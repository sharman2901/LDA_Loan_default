{
  "cells": [
    {
      "cell_type": "markdown",
      "metadata": {
        "id": "2qaa92SdXxgN"
      },
      "source": [
        "# <font size=6.5> <font color = darkblue>Linear Discriminant Analysis"
      ]
    },
    {
      "cell_type": "markdown",
      "metadata": {
        "id": "jHHDXJCtXxgU"
      },
      "source": [
        "---"
      ]
    },
    {
      "cell_type": "code",
      "execution_count": null,
      "metadata": {
        "ExecuteTime": {
          "end_time": "2020-10-06T07:16:59.350083Z",
          "start_time": "2020-10-06T07:16:58.188194Z"
        },
        "id": "lmTDuJ1VXxgW"
      },
      "outputs": [],
      "source": [
        "import numpy as np   \n",
        "import pandas as pd    \n",
        "import seaborn as sns\n",
        "import matplotlib.pyplot as plt "
      ]
    },
    {
      "cell_type": "code",
      "execution_count": null,
      "metadata": {
        "id": "RBG1f0wxXxgc"
      },
      "outputs": [],
      "source": [
        "plt.rcParams['font.size']=16\n",
        "plt.rcParams['axes.grid']=True\n",
        "np.set_printoptions(suppress=True)"
      ]
    },
    {
      "cell_type": "markdown",
      "metadata": {
        "id": "sozXIM8bXxgd"
      },
      "source": [
        "__Problem Statement: We want to classify the customers of a bank as defaulters or non-defaulters.__"
      ]
    },
    {
      "cell_type": "code",
      "execution_count": null,
      "metadata": {
        "ExecuteTime": {
          "end_time": "2020-10-06T07:16:59.501694Z",
          "start_time": "2020-10-06T07:16:59.358062Z"
        },
        "id": "Zoui0iTUXxgf",
        "outputId": "01d3b59d-880d-4bee-c24a-132555291bdd"
      },
      "outputs": [
        {
          "data": {
            "text/html": [
              "<div>\n",
              "<style scoped>\n",
              "    .dataframe tbody tr th:only-of-type {\n",
              "        vertical-align: middle;\n",
              "    }\n",
              "\n",
              "    .dataframe tbody tr th {\n",
              "        vertical-align: top;\n",
              "    }\n",
              "\n",
              "    .dataframe thead th {\n",
              "        text-align: right;\n",
              "    }\n",
              "</style>\n",
              "<table border=\"1\" class=\"dataframe\">\n",
              "  <thead>\n",
              "    <tr style=\"text-align: right;\">\n",
              "      <th></th>\n",
              "      <th>Gender</th>\n",
              "      <th>LoanOffered</th>\n",
              "      <th>Job</th>\n",
              "      <th>WorkExp</th>\n",
              "      <th>CreditScore</th>\n",
              "      <th>EMIRatio</th>\n",
              "      <th>Status</th>\n",
              "      <th>CreditHistory</th>\n",
              "      <th>Ownhouse</th>\n",
              "      <th>Purpose</th>\n",
              "      <th>Dependents</th>\n",
              "    </tr>\n",
              "  </thead>\n",
              "  <tbody>\n",
              "    <tr>\n",
              "      <th>0</th>\n",
              "      <td>Male</td>\n",
              "      <td>0</td>\n",
              "      <td>unskilled</td>\n",
              "      <td>14</td>\n",
              "      <td>86</td>\n",
              "      <td>3.0</td>\n",
              "      <td>No</td>\n",
              "      <td>poor</td>\n",
              "      <td>1</td>\n",
              "      <td>personal</td>\n",
              "      <td>2</td>\n",
              "    </tr>\n",
              "    <tr>\n",
              "      <th>1</th>\n",
              "      <td>Female</td>\n",
              "      <td>1</td>\n",
              "      <td>skilled</td>\n",
              "      <td>15</td>\n",
              "      <td>94</td>\n",
              "      <td>3.0</td>\n",
              "      <td>No</td>\n",
              "      <td>poor</td>\n",
              "      <td>1</td>\n",
              "      <td>personal</td>\n",
              "      <td>3</td>\n",
              "    </tr>\n",
              "    <tr>\n",
              "      <th>2</th>\n",
              "      <td>Male</td>\n",
              "      <td>0</td>\n",
              "      <td>unskilled</td>\n",
              "      <td>16</td>\n",
              "      <td>86</td>\n",
              "      <td>3.0</td>\n",
              "      <td>No</td>\n",
              "      <td>poor</td>\n",
              "      <td>1</td>\n",
              "      <td>personal</td>\n",
              "      <td>2</td>\n",
              "    </tr>\n",
              "    <tr>\n",
              "      <th>3</th>\n",
              "      <td>Female</td>\n",
              "      <td>1</td>\n",
              "      <td>skilled</td>\n",
              "      <td>13</td>\n",
              "      <td>94</td>\n",
              "      <td>3.0</td>\n",
              "      <td>No</td>\n",
              "      <td>poor</td>\n",
              "      <td>1</td>\n",
              "      <td>personal</td>\n",
              "      <td>3</td>\n",
              "    </tr>\n",
              "    <tr>\n",
              "      <th>4</th>\n",
              "      <td>Male</td>\n",
              "      <td>1</td>\n",
              "      <td>skilled</td>\n",
              "      <td>12</td>\n",
              "      <td>85</td>\n",
              "      <td>3.3</td>\n",
              "      <td>No</td>\n",
              "      <td>poor</td>\n",
              "      <td>1</td>\n",
              "      <td>personal</td>\n",
              "      <td>2</td>\n",
              "    </tr>\n",
              "  </tbody>\n",
              "</table>\n",
              "</div>"
            ],
            "text/plain": [
              "   Gender  LoanOffered        Job  WorkExp  CreditScore  EMIRatio Status  \\\n",
              "0    Male            0  unskilled       14           86       3.0     No   \n",
              "1  Female            1    skilled       15           94       3.0     No   \n",
              "2    Male            0  unskilled       16           86       3.0     No   \n",
              "3  Female            1    skilled       13           94       3.0     No   \n",
              "4    Male            1    skilled       12           85       3.3     No   \n",
              "\n",
              "  CreditHistory  Ownhouse   Purpose  Dependents  \n",
              "0          poor         1  personal           2  \n",
              "1          poor         1  personal           3  \n",
              "2          poor         1  personal           2  \n",
              "3          poor         1  personal           3  \n",
              "4          poor         1  personal           2  "
            ]
          },
          "execution_count": 16,
          "metadata": {},
          "output_type": "execute_result"
        }
      ],
      "source": [
        "df = pd.read_csv('loan_default.csv')\n",
        "df.head()"
      ]
    },
    {
      "cell_type": "markdown",
      "metadata": {
        "id": "oexXrp6oXxgl"
      },
      "source": [
        "### Feature Description"
      ]
    },
    {
      "cell_type": "markdown",
      "metadata": {
        "id": "RY4g7nvtXxgm"
      },
      "source": [
        "| Variables        | Type           | Description  |\n",
        "| ------------- |:-------------:| -----:|\n",
        "| Gender      | Categorical | Male or Female |\n",
        "| LoanOffered      | Indicator      |   Whether the Bank approached the customer for the loan: 1 indicates Bank did |\n",
        "| Job | Categorical      |    Unskilled, Skilled, Management |\n",
        "| WorkExp | Numeric | Years of professional experience|\n",
        "| CreditScore | Numeric | Credit score during loan approval; high score indicates better borrower|\n",
        "| EMIRatio | Numeric | Estimated EMI/Total assets during granting of loan|\n",
        "| Status | Categorical | Default or Not|\n",
        "| CreditHistory | Categorical | Previous history: Poor, Critical, Good or Very Good|\n",
        "| Ownhouse | Indicator | 1 if own house|\n",
        "| Purpose | Categorical | Purpose for borrowing: Car, Consumer durables or Personal|\n",
        "| Dependents | Integer | Number of dependents|\n"
      ]
    },
    {
      "cell_type": "markdown",
      "metadata": {
        "id": "cZtBeCPgXxgn"
      },
      "source": [
        "#### First, let us check the number of rows (observations) and the number of columns (variables)."
      ]
    },
    {
      "cell_type": "code",
      "execution_count": null,
      "metadata": {
        "ExecuteTime": {
          "end_time": "2020-10-06T07:16:59.589442Z",
          "start_time": "2020-10-06T07:16:59.503674Z"
        },
        "id": "JBeCOglhXxgo",
        "outputId": "4ed59e64-28bd-4364-a5c5-688bab885284"
      },
      "outputs": [
        {
          "name": "stdout",
          "output_type": "stream",
          "text": [
            "The number of rows (observations) is 781 \n",
            "The number of columns (variables) is 11\n"
          ]
        }
      ],
      "source": [
        "print('The number of rows (observations) is',df.shape[0],'\\n''The number of columns (variables) is',df.shape[1])"
      ]
    },
    {
      "cell_type": "markdown",
      "metadata": {
        "id": "BrbMxFp3Xxgr"
      },
      "source": [
        "#### Check for missing values."
      ]
    },
    {
      "cell_type": "code",
      "execution_count": null,
      "metadata": {
        "ExecuteTime": {
          "end_time": "2020-10-06T07:16:59.833789Z",
          "start_time": "2020-10-06T07:16:59.711117Z"
        },
        "id": "SCiTwrkyXxgs",
        "outputId": "c50ff886-eff6-4046-f50a-b26dc4541381"
      },
      "outputs": [
        {
          "data": {
            "text/plain": [
              "Gender           0\n",
              "LoanOffered      0\n",
              "Job              0\n",
              "WorkExp          0\n",
              "CreditScore      0\n",
              "EMIRatio         0\n",
              "Status           0\n",
              "CreditHistory    0\n",
              "Ownhouse         0\n",
              "Purpose          0\n",
              "Dependents       0\n",
              "dtype: int64"
            ]
          },
          "execution_count": 18,
          "metadata": {},
          "output_type": "execute_result"
        }
      ],
      "source": [
        "df.isnull().sum()"
      ]
    },
    {
      "cell_type": "markdown",
      "metadata": {
        "id": "CJPANE23Xxgt"
      },
      "source": [
        "There are no missing values in the dataset."
      ]
    },
    {
      "cell_type": "markdown",
      "metadata": {
        "id": "qRSToJk8Xxgv"
      },
      "source": [
        "#### Check for the various data types."
      ]
    },
    {
      "cell_type": "code",
      "execution_count": null,
      "metadata": {
        "ExecuteTime": {
          "end_time": "2020-10-06T07:16:59.941503Z",
          "start_time": "2020-10-06T07:16:59.834786Z"
        },
        "id": "7a-oduabXxgw",
        "outputId": "5d8556e0-06da-4544-9457-792793507913"
      },
      "outputs": [
        {
          "name": "stdout",
          "output_type": "stream",
          "text": [
            "<class 'pandas.core.frame.DataFrame'>\n",
            "RangeIndex: 781 entries, 0 to 780\n",
            "Data columns (total 11 columns):\n",
            " #   Column         Non-Null Count  Dtype  \n",
            "---  ------         --------------  -----  \n",
            " 0   Gender         781 non-null    object \n",
            " 1   LoanOffered    781 non-null    int64  \n",
            " 2   Job            781 non-null    object \n",
            " 3   WorkExp        781 non-null    int64  \n",
            " 4   CreditScore    781 non-null    int64  \n",
            " 5   EMIRatio       781 non-null    float64\n",
            " 6   Status         781 non-null    object \n",
            " 7   CreditHistory  781 non-null    object \n",
            " 8   Ownhouse       781 non-null    int64  \n",
            " 9   Purpose        781 non-null    object \n",
            " 10  Dependents     781 non-null    int64  \n",
            "dtypes: float64(1), int64(5), object(5)\n",
            "memory usage: 67.2+ KB\n"
          ]
        }
      ],
      "source": [
        "df.info()"
      ]
    },
    {
      "cell_type": "markdown",
      "metadata": {
        "id": "GckA-oo1Xxgx"
      },
      "source": [
        "### Creating Dummy Variables"
      ]
    },
    {
      "cell_type": "markdown",
      "metadata": {
        "id": "FBDUsx1MXxgz"
      },
      "source": [
        "Before splitting the data into train and test , let us go ahead and create the dummy variables appropriately."
      ]
    },
    {
      "cell_type": "code",
      "execution_count": null,
      "metadata": {
        "ExecuteTime": {
          "end_time": "2020-10-06T07:17:00.111096Z",
          "start_time": "2020-10-06T07:16:59.943495Z"
        },
        "id": "bPqigqIqXxg0",
        "outputId": "19f609bd-7873-45f7-b202-d312fc9c977c"
      },
      "outputs": [
        {
          "data": {
            "text/html": [
              "<div>\n",
              "<style scoped>\n",
              "    .dataframe tbody tr th:only-of-type {\n",
              "        vertical-align: middle;\n",
              "    }\n",
              "\n",
              "    .dataframe tbody tr th {\n",
              "        vertical-align: top;\n",
              "    }\n",
              "\n",
              "    .dataframe thead th {\n",
              "        text-align: right;\n",
              "    }\n",
              "</style>\n",
              "<table border=\"1\" class=\"dataframe\">\n",
              "  <thead>\n",
              "    <tr style=\"text-align: right;\">\n",
              "      <th></th>\n",
              "      <th>LoanOffered</th>\n",
              "      <th>WorkExp</th>\n",
              "      <th>CreditScore</th>\n",
              "      <th>EMIRatio</th>\n",
              "      <th>Ownhouse</th>\n",
              "      <th>Dependents</th>\n",
              "      <th>Gender_Male</th>\n",
              "      <th>Job_skilled</th>\n",
              "      <th>Job_unskilled</th>\n",
              "      <th>Status_No</th>\n",
              "      <th>CreditHistory_good</th>\n",
              "      <th>CreditHistory_poor</th>\n",
              "      <th>CreditHistory_verygood</th>\n",
              "      <th>Purpose_consumerdurable</th>\n",
              "      <th>Purpose_education</th>\n",
              "      <th>Purpose_personal</th>\n",
              "    </tr>\n",
              "  </thead>\n",
              "  <tbody>\n",
              "    <tr>\n",
              "      <th>0</th>\n",
              "      <td>0</td>\n",
              "      <td>14</td>\n",
              "      <td>86</td>\n",
              "      <td>3.0</td>\n",
              "      <td>1</td>\n",
              "      <td>2</td>\n",
              "      <td>1</td>\n",
              "      <td>0</td>\n",
              "      <td>1</td>\n",
              "      <td>1</td>\n",
              "      <td>0</td>\n",
              "      <td>1</td>\n",
              "      <td>0</td>\n",
              "      <td>0</td>\n",
              "      <td>0</td>\n",
              "      <td>1</td>\n",
              "    </tr>\n",
              "    <tr>\n",
              "      <th>1</th>\n",
              "      <td>1</td>\n",
              "      <td>15</td>\n",
              "      <td>94</td>\n",
              "      <td>3.0</td>\n",
              "      <td>1</td>\n",
              "      <td>3</td>\n",
              "      <td>0</td>\n",
              "      <td>1</td>\n",
              "      <td>0</td>\n",
              "      <td>1</td>\n",
              "      <td>0</td>\n",
              "      <td>1</td>\n",
              "      <td>0</td>\n",
              "      <td>0</td>\n",
              "      <td>0</td>\n",
              "      <td>1</td>\n",
              "    </tr>\n",
              "    <tr>\n",
              "      <th>2</th>\n",
              "      <td>0</td>\n",
              "      <td>16</td>\n",
              "      <td>86</td>\n",
              "      <td>3.0</td>\n",
              "      <td>1</td>\n",
              "      <td>2</td>\n",
              "      <td>1</td>\n",
              "      <td>0</td>\n",
              "      <td>1</td>\n",
              "      <td>1</td>\n",
              "      <td>0</td>\n",
              "      <td>1</td>\n",
              "      <td>0</td>\n",
              "      <td>0</td>\n",
              "      <td>0</td>\n",
              "      <td>1</td>\n",
              "    </tr>\n",
              "    <tr>\n",
              "      <th>3</th>\n",
              "      <td>1</td>\n",
              "      <td>13</td>\n",
              "      <td>94</td>\n",
              "      <td>3.0</td>\n",
              "      <td>1</td>\n",
              "      <td>3</td>\n",
              "      <td>0</td>\n",
              "      <td>1</td>\n",
              "      <td>0</td>\n",
              "      <td>1</td>\n",
              "      <td>0</td>\n",
              "      <td>1</td>\n",
              "      <td>0</td>\n",
              "      <td>0</td>\n",
              "      <td>0</td>\n",
              "      <td>1</td>\n",
              "    </tr>\n",
              "    <tr>\n",
              "      <th>4</th>\n",
              "      <td>1</td>\n",
              "      <td>12</td>\n",
              "      <td>85</td>\n",
              "      <td>3.3</td>\n",
              "      <td>1</td>\n",
              "      <td>2</td>\n",
              "      <td>1</td>\n",
              "      <td>1</td>\n",
              "      <td>0</td>\n",
              "      <td>1</td>\n",
              "      <td>0</td>\n",
              "      <td>1</td>\n",
              "      <td>0</td>\n",
              "      <td>0</td>\n",
              "      <td>0</td>\n",
              "      <td>1</td>\n",
              "    </tr>\n",
              "  </tbody>\n",
              "</table>\n",
              "</div>"
            ],
            "text/plain": [
              "   LoanOffered  WorkExp  CreditScore  EMIRatio  Ownhouse  Dependents  \\\n",
              "0            0       14           86       3.0         1           2   \n",
              "1            1       15           94       3.0         1           3   \n",
              "2            0       16           86       3.0         1           2   \n",
              "3            1       13           94       3.0         1           3   \n",
              "4            1       12           85       3.3         1           2   \n",
              "\n",
              "   Gender_Male  Job_skilled  Job_unskilled  Status_No  CreditHistory_good  \\\n",
              "0            1            0              1          1                   0   \n",
              "1            0            1              0          1                   0   \n",
              "2            1            0              1          1                   0   \n",
              "3            0            1              0          1                   0   \n",
              "4            1            1              0          1                   0   \n",
              "\n",
              "   CreditHistory_poor  CreditHistory_verygood  Purpose_consumerdurable  \\\n",
              "0                   1                       0                        0   \n",
              "1                   1                       0                        0   \n",
              "2                   1                       0                        0   \n",
              "3                   1                       0                        0   \n",
              "4                   1                       0                        0   \n",
              "\n",
              "   Purpose_education  Purpose_personal  \n",
              "0                  0                 1  \n",
              "1                  0                 1  \n",
              "2                  0                 1  \n",
              "3                  0                 1  \n",
              "4                  0                 1  "
            ]
          },
          "execution_count": 20,
          "metadata": {},
          "output_type": "execute_result"
        }
      ],
      "source": [
        "data = pd.get_dummies(df, drop_first=True)\n",
        "data.head()"
      ]
    },
    {
      "cell_type": "markdown",
      "metadata": {
        "id": "XVONYIydXxg1"
      },
      "source": [
        "---"
      ]
    },
    {
      "cell_type": "markdown",
      "metadata": {
        "id": "etco-Yq6Xxg2"
      },
      "source": [
        "## <font color = darkblue>Lets start by only taking two features: Credit Score and EMI Ratio"
      ]
    },
    {
      "cell_type": "code",
      "execution_count": null,
      "metadata": {
        "id": "bcREma_lXxg3",
        "outputId": "694cb6fa-b36a-49f1-a6a0-c50e16ee0899"
      },
      "outputs": [
        {
          "data": {
            "text/html": [
              "<div>\n",
              "<style scoped>\n",
              "    .dataframe tbody tr th:only-of-type {\n",
              "        vertical-align: middle;\n",
              "    }\n",
              "\n",
              "    .dataframe tbody tr th {\n",
              "        vertical-align: top;\n",
              "    }\n",
              "\n",
              "    .dataframe thead th {\n",
              "        text-align: right;\n",
              "    }\n",
              "</style>\n",
              "<table border=\"1\" class=\"dataframe\">\n",
              "  <thead>\n",
              "    <tr style=\"text-align: right;\">\n",
              "      <th></th>\n",
              "      <th>EMIRatio</th>\n",
              "      <th>WorkExp</th>\n",
              "      <th>Status_No</th>\n",
              "    </tr>\n",
              "  </thead>\n",
              "  <tbody>\n",
              "    <tr>\n",
              "      <th>0</th>\n",
              "      <td>3.0</td>\n",
              "      <td>14</td>\n",
              "      <td>1</td>\n",
              "    </tr>\n",
              "    <tr>\n",
              "      <th>1</th>\n",
              "      <td>3.0</td>\n",
              "      <td>15</td>\n",
              "      <td>1</td>\n",
              "    </tr>\n",
              "    <tr>\n",
              "      <th>2</th>\n",
              "      <td>3.0</td>\n",
              "      <td>16</td>\n",
              "      <td>1</td>\n",
              "    </tr>\n",
              "    <tr>\n",
              "      <th>3</th>\n",
              "      <td>3.0</td>\n",
              "      <td>13</td>\n",
              "      <td>1</td>\n",
              "    </tr>\n",
              "    <tr>\n",
              "      <th>4</th>\n",
              "      <td>3.3</td>\n",
              "      <td>12</td>\n",
              "      <td>1</td>\n",
              "    </tr>\n",
              "  </tbody>\n",
              "</table>\n",
              "</div>"
            ],
            "text/plain": [
              "   EMIRatio  WorkExp  Status_No\n",
              "0       3.0       14          1\n",
              "1       3.0       15          1\n",
              "2       3.0       16          1\n",
              "3       3.0       13          1\n",
              "4       3.3       12          1"
            ]
          },
          "execution_count": 21,
          "metadata": {},
          "output_type": "execute_result"
        }
      ],
      "source": [
        "data_mini = data.loc[:,['EMIRatio', 'WorkExp', 'Status_No']]\n",
        "data_mini.head()"
      ]
    },
    {
      "cell_type": "code",
      "execution_count": null,
      "metadata": {
        "id": "ZRNnKaHlXxg4"
      },
      "outputs": [],
      "source": [
        "from sklearn.model_selection import train_test_split\n",
        "X_Train, X_Test = train_test_split(data_mini, test_size=.3, random_state=1, stratify = data_mini.Status_No)"
      ]
    },
    {
      "cell_type": "code",
      "execution_count": null,
      "metadata": {
        "id": "z8emYy3jXxg6",
        "outputId": "ae7cda9c-6eb7-4172-c73e-3edc1af4e26d"
      },
      "outputs": [
        {
          "data": {
            "text/html": [
              "<div>\n",
              "<style scoped>\n",
              "    .dataframe tbody tr th:only-of-type {\n",
              "        vertical-align: middle;\n",
              "    }\n",
              "\n",
              "    .dataframe tbody tr th {\n",
              "        vertical-align: top;\n",
              "    }\n",
              "\n",
              "    .dataframe thead th {\n",
              "        text-align: right;\n",
              "    }\n",
              "</style>\n",
              "<table border=\"1\" class=\"dataframe\">\n",
              "  <thead>\n",
              "    <tr style=\"text-align: right;\">\n",
              "      <th></th>\n",
              "      <th>EMIRatio</th>\n",
              "      <th>WorkExp</th>\n",
              "      <th>Status_No</th>\n",
              "    </tr>\n",
              "  </thead>\n",
              "  <tbody>\n",
              "    <tr>\n",
              "      <th>678</th>\n",
              "      <td>8.8</td>\n",
              "      <td>15</td>\n",
              "      <td>0</td>\n",
              "    </tr>\n",
              "    <tr>\n",
              "      <th>266</th>\n",
              "      <td>8.1</td>\n",
              "      <td>13</td>\n",
              "      <td>1</td>\n",
              "    </tr>\n",
              "    <tr>\n",
              "      <th>662</th>\n",
              "      <td>7.5</td>\n",
              "      <td>13</td>\n",
              "      <td>0</td>\n",
              "    </tr>\n",
              "    <tr>\n",
              "      <th>219</th>\n",
              "      <td>7.7</td>\n",
              "      <td>19</td>\n",
              "      <td>1</td>\n",
              "    </tr>\n",
              "    <tr>\n",
              "      <th>460</th>\n",
              "      <td>10.5</td>\n",
              "      <td>11</td>\n",
              "      <td>1</td>\n",
              "    </tr>\n",
              "  </tbody>\n",
              "</table>\n",
              "</div>"
            ],
            "text/plain": [
              "     EMIRatio  WorkExp  Status_No\n",
              "678       8.8       15          0\n",
              "266       8.1       13          1\n",
              "662       7.5       13          0\n",
              "219       7.7       19          1\n",
              "460      10.5       11          1"
            ]
          },
          "execution_count": 23,
          "metadata": {},
          "output_type": "execute_result"
        }
      ],
      "source": [
        "X_Test.head()"
      ]
    },
    {
      "cell_type": "markdown",
      "metadata": {
        "id": "wMiQgWDTXxg7"
      },
      "source": [
        "### Ronald A. Fisher formulated the Linear Discriminant in 1936. What is the concept behind it?"
      ]
    },
    {
      "cell_type": "code",
      "execution_count": null,
      "metadata": {
        "id": "GZfrkpMIXxg8",
        "outputId": "188c01cf-a3c9-4454-b4a0-930ee8e8d4a8"
      },
      "outputs": [
        {
          "data": {
            "image/png": "[encoded data removed]",
            "text/plain": [
              "<Figure size 360x360 with 1 Axes>"
            ]
          },
          "metadata": {
            "needs_background": "light"
          },
          "output_type": "display_data"
        }
      ],
      "source": [
        "plt.figure(figsize=(5,5))\n",
        "plt.scatter(X_Train.EMIRatio, X_Train.WorkExp, c = X_Train.Status_No, cmap='Set3', s = 75)\n",
        "plt.xlabel('EMI Ratio')\n",
        "plt.ylabel('Work Exp')\n",
        "plt.show()"
      ]
    },
    {
      "cell_type": "markdown",
      "metadata": {
        "id": "lmqVJlBrXxg9"
      },
      "source": [
        "# \\begin{equation*}Z =   \\beta_1x_1 + \\beta_2x_2 + ..... \\beta_nx_n  \\end{equation*}\n",
        "- ### Find Z, such that the below is maximised:\n",
        "    * # \\begin{equation*} \\frac{(\\mu_1 - \\mu_2 )^2}{s_1^2 + s_2^2} \\end{equation*}\n",
        "    * ### One solution for the above problem is eigen value decomposition:\n",
        "    * # \\begin{equation*} \\lambda w = S_W^{-1} S_B w \\end{equation*}"
      ]
    },
    {
      "cell_type": "markdown",
      "metadata": {
        "id": "1TxJbXz9Xxg-"
      },
      "source": [
        "## The above problem can be broken down to 5 steps:\n",
        "#### 1. Compute the d-dimensional mean vectors for the different classes from the dataset.\n",
        "#### 2. Compute the scatter matrices (in-between-class and within-class scatter matrix).\n",
        "#### 3. Compute the eigenvectors (e1,e2,...,ed) and corresponding eigenvalues (λ1,λ2,...,λd) for the scatter matrices.\n",
        "#### 4. Sort the eigenvectors by decreasing eigenvalues and choose k eigenvectors with the largest eigenvalues to form a d×k dimensional matrix W (where every column represents an eigenvector).\n",
        "#### 5. Use this d×k eigenvector matrix to transform the samples onto the new subspace. This can be summarized by the matrix multiplication: Z=X×W (where X is a n×d-dimensional matrix representing the n samples, and z are the transformed n×k-dimensional samples in the new subspace)."
      ]
    },
    {
      "cell_type": "markdown",
      "metadata": {
        "id": "vaoEGhHYXxhA"
      },
      "source": [
        "### 1. Compute the d-dimensional mean vectors for the different classes from the dataset."
      ]
    },
    {
      "cell_type": "code",
      "execution_count": null,
      "metadata": {
        "id": "A1c-aaJ5XxhB",
        "outputId": "78a1761e-2c76-47f3-c246-37a61f879a3d"
      },
      "outputs": [
        {
          "data": {
            "text/html": [
              "<div>\n",
              "<style scoped>\n",
              "    .dataframe tbody tr th:only-of-type {\n",
              "        vertical-align: middle;\n",
              "    }\n",
              "\n",
              "    .dataframe tbody tr th {\n",
              "        vertical-align: top;\n",
              "    }\n",
              "\n",
              "    .dataframe thead th {\n",
              "        text-align: right;\n",
              "    }\n",
              "</style>\n",
              "<table border=\"1\" class=\"dataframe\">\n",
              "  <thead>\n",
              "    <tr style=\"text-align: right;\">\n",
              "      <th>Status_No</th>\n",
              "      <th>0</th>\n",
              "      <th>1</th>\n",
              "    </tr>\n",
              "  </thead>\n",
              "  <tbody>\n",
              "    <tr>\n",
              "      <th>EMIRatio</th>\n",
              "      <td>11.757471</td>\n",
              "      <td>9.183007</td>\n",
              "    </tr>\n",
              "    <tr>\n",
              "      <th>WorkExp</th>\n",
              "      <td>7.264368</td>\n",
              "      <td>13.296296</td>\n",
              "    </tr>\n",
              "  </tbody>\n",
              "</table>\n",
              "</div>"
            ],
            "text/plain": [
              "Status_No          0          1\n",
              "EMIRatio   11.757471   9.183007\n",
              "WorkExp     7.264368  13.296296"
            ]
          },
          "execution_count": 25,
          "metadata": {},
          "output_type": "execute_result"
        }
      ],
      "source": [
        "class_feature_means = X_Train.groupby('Status_No').mean().T \n",
        "class_feature_means"
      ]
    },
    {
      "cell_type": "markdown",
      "metadata": {
        "id": "uuE4NpeDXxhC"
      },
      "source": [
        "### 2.a Compute the within-class Scatter matrix\n",
        "#### The within-class-scatter matrices Sw and the between-class-scatter matrix SB contain all the basic information about the relationship within the groups and between them"
      ]
    },
    {
      "cell_type": "markdown",
      "metadata": {
        "id": "YuqJOlr0XxhD"
      },
      "source": [
        "## \\begin{equation*}S_w = \\sum S_i \\end{equation*}\n",
        "  \n",
        "## \\begin{equation*}S_i = \\sum (x-m_i)(x-m_i)^T   \\end{equation*}\n",
        "\n",
        "#### i is a class, mi is sample mean for ith class and x is a sample row belonging to class i"
      ]
    },
    {
      "cell_type": "code",
      "execution_count": null,
      "metadata": {
        "id": "egFqwUyPXxhF",
        "outputId": "a7f51679-9bbc-4a0f-8c9c-ca21433d8c02"
      },
      "outputs": [
        {
          "name": "stdout",
          "output_type": "stream",
          "text": [
            "[[3822.22009466 -822.91072797]\n",
            " [-822.91072797 5138.62324393]]\n"
          ]
        }
      ],
      "source": [
        "within_class_scatter_matrix = np.zeros((2,2)) # a 2,2 shape is chosen because there are 2 features, for 3 features the shape should be 3,3\n",
        "for clas, rows in X_Train.groupby('Status_No'):\n",
        "    rows = rows.drop(['Status_No'], axis=1)\n",
        "    s = np.zeros((2,2)) # s variable will store the scatter matrix for each class in the loop\n",
        "    \n",
        "    for index, row in rows.iterrows():\n",
        "        x, mc = row.values.reshape(2,1), class_feature_means[clas].values.reshape(2,1)\n",
        "        s += (x - mc).dot((x - mc).T) \n",
        "    within_class_scatter_matrix += s # this represents the first equation, where we add scatter matrix for different classes.\n",
        "    \n",
        "print(within_class_scatter_matrix)"
      ]
    },
    {
      "cell_type": "code",
      "execution_count": null,
      "metadata": {
        "id": "XFtO--rrXxhJ",
        "outputId": "9197aca4-aabc-4ab1-a361-d0dfe50932b1"
      },
      "outputs": [
        {
          "data": {
            "text/plain": [
              "EMIRatio    14.0\n",
              "WorkExp     10.0\n",
              "Name: 617, dtype: float64"
            ]
          },
          "execution_count": 33,
          "metadata": {},
          "output_type": "execute_result"
        }
      ],
      "source": [
        "row"
      ]
    },
    {
      "cell_type": "code",
      "execution_count": null,
      "metadata": {
        "id": "_m4H8wPyXxhM",
        "outputId": "a57736d6-1243-47c8-8fa6-ad93fc6d9e7e"
      },
      "outputs": [
        {
          "data": {
            "text/html": [
              "<div>\n",
              "<style scoped>\n",
              "    .dataframe tbody tr th:only-of-type {\n",
              "        vertical-align: middle;\n",
              "    }\n",
              "\n",
              "    .dataframe tbody tr th {\n",
              "        vertical-align: top;\n",
              "    }\n",
              "\n",
              "    .dataframe thead th {\n",
              "        text-align: right;\n",
              "    }\n",
              "</style>\n",
              "<table border=\"1\" class=\"dataframe\">\n",
              "  <thead>\n",
              "    <tr style=\"text-align: right;\">\n",
              "      <th></th>\n",
              "      <th>EMIRatio</th>\n",
              "      <th>WorkExp</th>\n",
              "      <th>Status_No</th>\n",
              "    </tr>\n",
              "  </thead>\n",
              "  <tbody>\n",
              "    <tr>\n",
              "      <th>617</th>\n",
              "      <td>14.0</td>\n",
              "      <td>10</td>\n",
              "      <td>1</td>\n",
              "    </tr>\n",
              "  </tbody>\n",
              "</table>\n",
              "</div>"
            ],
            "text/plain": [
              "     EMIRatio  WorkExp  Status_No\n",
              "617      14.0       10          1"
            ]
          },
          "execution_count": 31,
          "metadata": {},
          "output_type": "execute_result"
        }
      ],
      "source": [
        "X_Train.tail(1)"
      ]
    },
    {
      "cell_type": "markdown",
      "metadata": {
        "id": "ni1QxV8bXxhO"
      },
      "source": [
        "### 2.b Compute the between-class Scatter matrix"
      ]
    },
    {
      "cell_type": "markdown",
      "metadata": {
        "id": "vwTXHCZDXxhQ"
      },
      "source": [
        "## \\begin{equation*}S_B = \\sum N_i(m_i - m)(m_i-m)^T   \\end{equation*}\n",
        "#### m is overall mean, mi is sample mean for ith class and Ni is sample size for ith class"
      ]
    },
    {
      "cell_type": "code",
      "execution_count": null,
      "metadata": {
        "id": "-eD6klW_XxhS",
        "outputId": "a6933bfa-02f5-4dcf-fa0b-0ff7f233d7f5"
      },
      "outputs": [
        {
          "name": "stdout",
          "output_type": "stream",
          "text": [
            "[[  484.74483208 -1135.74916214]\n",
            " [-1135.74916214  2661.04159123]]\n"
          ]
        }
      ],
      "source": [
        "# Applying the above formula\n",
        "feature_means = X_Train.iloc[:, :-1].mean()\n",
        "between_class_scatter_matrix = np.zeros((2, 2)) # a 2,2 shape is chosen because there are 2 features, for 3 features the shape should be 3,3\n",
        "for clas in class_feature_means.columns:    \n",
        "    n = len(X_Train.loc[X_Train['Status_No'] == clas])\n",
        "    mc, m = class_feature_means[clas].values.reshape(2,1), feature_means.values.reshape(2,1) # vectors are reshaped to get appropriate shape after dot product\n",
        "    between_class_scatter_matrix += n * (mc - m).dot((mc - m).T)\n",
        "print(between_class_scatter_matrix)"
      ]
    },
    {
      "cell_type": "markdown",
      "metadata": {
        "id": "B05sRtImXxhU"
      },
      "source": [
        "### 3 and 4. Computing and sorting Eigen Values"
      ]
    },
    {
      "cell_type": "markdown",
      "metadata": {
        "id": "OF1ofUqTXxhV"
      },
      "source": [
        "* # \\begin{equation*} \\lambda w = S_W^{-1} S_B w \\end{equation*}"
      ]
    },
    {
      "cell_type": "code",
      "execution_count": null,
      "metadata": {
        "id": "TfQLiiKgXxhW"
      },
      "outputs": [],
      "source": [
        "eigen_values, eigen_vectors = np.linalg.eig(np.linalg.inv(within_class_scatter_matrix).dot(between_class_scatter_matrix))"
      ]
    },
    {
      "cell_type": "code",
      "execution_count": null,
      "metadata": {
        "id": "_ExYX_gaXxhX",
        "outputId": "f081a911-9cce-43f0-f410-e086070ef31c"
      },
      "outputs": [
        {
          "data": {
            "text/plain": [
              "array([0.        , 0.56912571])"
            ]
          },
          "execution_count": 43,
          "metadata": {},
          "output_type": "execute_result"
        }
      ],
      "source": [
        "eigen_values # We have to look at non zero eigen values for classification. "
      ]
    },
    {
      "cell_type": "code",
      "execution_count": null,
      "metadata": {
        "id": "1oFZlOmRXxhY",
        "outputId": "770aa76e-1fb1-416c-bce2-f8ab4dcacef8"
      },
      "outputs": [
        {
          "name": "stdout",
          "output_type": "stream",
          "text": [
            "0.5691257116726863\n"
          ]
        }
      ],
      "source": [
        "eigen_value = eigen_values[1]\n",
        "print(eigen_value)"
      ]
    },
    {
      "cell_type": "code",
      "execution_count": null,
      "metadata": {
        "id": "kcFRRVrBXxhc",
        "outputId": "0fda60ba-f5e6-403d-ac6e-72d79445adc0"
      },
      "outputs": [
        {
          "data": {
            "text/plain": [
              "array([[-0.91973182,  0.36720258],\n",
              "       [-0.39254728, -0.93014099]])"
            ]
          },
          "execution_count": 45,
          "metadata": {},
          "output_type": "execute_result"
        }
      ],
      "source": [
        "eigen_vectors"
      ]
    },
    {
      "cell_type": "code",
      "execution_count": null,
      "metadata": {
        "id": "KOgld9l2Xxhd",
        "outputId": "afc01904-7d77-4773-d93d-5b2d9d45d390"
      },
      "outputs": [
        {
          "name": "stdout",
          "output_type": "stream",
          "text": [
            "[[-0.36720258]\n",
            " [ 0.93014099]]\n"
          ]
        }
      ],
      "source": [
        "eigen_vectors = eigen_vectors[:, 1].reshape(2,1)*-1 \n",
        "# np.linalg.eig often reverses the sign of coefficients, that's why -1 is used a multiplier in the previous line\n",
        "# We are only selecting eigen vector corresponing to the non zero eigen values.\n",
        "print(eigen_vectors)"
      ]
    },
    {
      "cell_type": "code",
      "execution_count": null,
      "metadata": {
        "id": "R_ib2rWLXxhe",
        "outputId": "97b2a176-085d-422e-cbb5-61144ac16848"
      },
      "outputs": [
        {
          "data": {
            "text/html": [
              "<div>\n",
              "<style scoped>\n",
              "    .dataframe tbody tr th:only-of-type {\n",
              "        vertical-align: middle;\n",
              "    }\n",
              "\n",
              "    .dataframe tbody tr th {\n",
              "        vertical-align: top;\n",
              "    }\n",
              "\n",
              "    .dataframe thead th {\n",
              "        text-align: right;\n",
              "    }\n",
              "</style>\n",
              "<table border=\"1\" class=\"dataframe\">\n",
              "  <thead>\n",
              "    <tr style=\"text-align: right;\">\n",
              "      <th></th>\n",
              "      <th>EMIRatio</th>\n",
              "      <th>WorkExp</th>\n",
              "    </tr>\n",
              "  </thead>\n",
              "  <tbody>\n",
              "    <tr>\n",
              "      <th>0</th>\n",
              "      <td>3.0</td>\n",
              "      <td>14</td>\n",
              "    </tr>\n",
              "    <tr>\n",
              "      <th>1</th>\n",
              "      <td>3.0</td>\n",
              "      <td>15</td>\n",
              "    </tr>\n",
              "    <tr>\n",
              "      <th>2</th>\n",
              "      <td>3.0</td>\n",
              "      <td>16</td>\n",
              "    </tr>\n",
              "    <tr>\n",
              "      <th>3</th>\n",
              "      <td>3.0</td>\n",
              "      <td>13</td>\n",
              "    </tr>\n",
              "    <tr>\n",
              "      <th>4</th>\n",
              "      <td>3.3</td>\n",
              "      <td>12</td>\n",
              "    </tr>\n",
              "  </tbody>\n",
              "</table>\n",
              "</div>"
            ],
            "text/plain": [
              "   EMIRatio  WorkExp\n",
              "0       3.0       14\n",
              "1       3.0       15\n",
              "2       3.0       16\n",
              "3       3.0       13\n",
              "4       3.3       12"
            ]
          },
          "execution_count": 47,
          "metadata": {},
          "output_type": "execute_result"
        }
      ],
      "source": [
        "data_mini.loc[:,['EMIRatio', 'WorkExp',]].head()"
      ]
    },
    {
      "cell_type": "markdown",
      "metadata": {
        "id": "AKcKg6IaXxhf"
      },
      "source": [
        "### 5. Matrix multiplication: Z=X×W"
      ]
    },
    {
      "cell_type": "code",
      "execution_count": null,
      "metadata": {
        "id": "x-X8rZLgXxhf",
        "outputId": "ca549adf-e594-4ed3-97f8-1b061d348617"
      },
      "outputs": [
        {
          "data": {
            "text/plain": [
              "array([ 8.90930492,  5.29890173,  9.86403164,  8.93389065, 14.42916154])"
            ]
          },
          "execution_count": 50,
          "metadata": {},
          "output_type": "execute_result"
        }
      ],
      "source": [
        "X_lda = np.array(X_Train.loc[:,['EMIRatio', 'WorkExp',]].values.dot(eigen_vectors))\n",
        "X_lda = X_lda.ravel()\n",
        "X_lda[:5]"
      ]
    },
    {
      "cell_type": "code",
      "execution_count": null,
      "metadata": {
        "id": "NFgC7bzGXxhg",
        "outputId": "d57177fe-16d7-435a-9e1a-8624d9ef44b1"
      },
      "outputs": [
        {
          "data": {
            "text/plain": [
              "array([0., 0., 0., 0., 0., 0., 0., 0., 0., 0., 0., 0., 0., 0., 0., 0., 0.,\n",
              "       0., 0., 0., 0., 0., 0., 0., 0., 0., 0., 0., 0., 0., 0., 0., 0., 0.,\n",
              "       0., 0., 0., 0., 0., 0., 0., 0., 0., 0., 0., 0., 0., 0., 0., 0., 0.,\n",
              "       0., 0., 0., 0., 0., 0., 0., 0., 0., 0., 0., 0., 0., 0., 0., 0., 0.,\n",
              "       0., 0., 0., 0., 0., 0., 0., 0., 0., 0., 0., 0., 0., 0., 0., 0., 0.,\n",
              "       0., 0., 0., 0., 0., 0., 0., 0., 0., 0., 0., 0., 0., 0., 0., 0., 0.,\n",
              "       0., 0., 0., 0., 0., 0., 0., 0., 0., 0., 0., 0., 0., 0., 0., 0., 0.,\n",
              "       0., 0., 0., 0., 0., 0., 0., 0., 0., 0., 0., 0., 0., 0., 0., 0., 0.,\n",
              "       0., 0., 0., 0., 0., 0., 0., 0., 0., 0., 0., 0., 0., 0., 0., 0., 0.,\n",
              "       0., 0., 0., 0., 0., 0., 0., 0., 0., 0., 0., 0., 0., 0., 0., 0., 0.,\n",
              "       0., 0., 0., 0., 0., 0., 0., 0., 0., 0., 0., 0., 0., 0., 0., 0., 0.,\n",
              "       0., 0., 0., 0., 0., 0., 0., 0., 0., 0., 0., 0., 0., 0., 0., 0., 0.,\n",
              "       0., 0., 0., 0., 0., 0., 0., 0., 0., 0., 0., 0., 0., 0., 0., 0., 0.,\n",
              "       0., 0., 0., 0., 0., 0., 0., 0., 0., 0., 0., 0., 0., 0., 0., 0., 0.,\n",
              "       0., 0., 0., 0., 0., 0., 0., 0., 0., 0., 0., 0., 0., 0., 0., 0., 0.,\n",
              "       0., 0., 0., 0., 0., 0., 0., 0., 0., 0., 0., 0., 0., 0., 0., 0., 0.,\n",
              "       0., 0., 0., 0., 0., 0., 0., 0., 0., 0., 0., 0., 0., 0., 0., 0., 0.,\n",
              "       0., 0., 0., 0., 0., 0., 0., 0., 0., 0., 0., 0., 0., 0., 0., 0., 0.,\n",
              "       0., 0., 0., 0., 0., 0., 0., 0., 0., 0., 0., 0., 0., 0., 0., 0., 0.,\n",
              "       0., 0., 0., 0., 0., 0., 0., 0., 0., 0., 0., 0., 0., 0., 0., 0., 0.,\n",
              "       0., 0., 0., 0., 0., 0., 0., 0., 0., 0., 0., 0., 0., 0., 0., 0., 0.,\n",
              "       0., 0., 0., 0., 0., 0., 0., 0., 0., 0., 0., 0., 0., 0., 0., 0., 0.,\n",
              "       0., 0., 0., 0., 0., 0., 0., 0., 0., 0., 0., 0., 0., 0., 0., 0., 0.,\n",
              "       0., 0., 0., 0., 0., 0., 0., 0., 0., 0., 0., 0., 0., 0., 0., 0., 0.,\n",
              "       0., 0., 0., 0., 0., 0., 0., 0., 0., 0., 0., 0., 0., 0., 0., 0., 0.,\n",
              "       0., 0., 0., 0., 0., 0., 0., 0., 0., 0., 0., 0., 0., 0., 0., 0., 0.,\n",
              "       0., 0., 0., 0., 0., 0., 0., 0., 0., 0., 0., 0., 0., 0., 0., 0., 0.,\n",
              "       0., 0., 0., 0., 0., 0., 0., 0., 0., 0., 0., 0., 0., 0., 0., 0., 0.,\n",
              "       0., 0., 0., 0., 0., 0., 0., 0., 0., 0., 0., 0., 0., 0., 0., 0., 0.,\n",
              "       0., 0., 0., 0., 0., 0., 0., 0., 0., 0., 0., 0., 0., 0., 0., 0., 0.,\n",
              "       0., 0., 0., 0., 0., 0., 0., 0., 0., 0., 0., 0., 0., 0., 0., 0., 0.,\n",
              "       0., 0., 0., 0., 0., 0., 0., 0., 0., 0., 0., 0., 0., 0., 0., 0., 0.,\n",
              "       0., 0.])"
            ]
          },
          "execution_count": 53,
          "metadata": {},
          "output_type": "execute_result"
        }
      ],
      "source": [
        "np.zeros_like(X_lda)"
      ]
    },
    {
      "cell_type": "code",
      "execution_count": null,
      "metadata": {
        "id": "3lrU3PjrXxhi",
        "outputId": "e382e0ea-3d29-439e-d7f0-49045d1982c4"
      },
      "outputs": [
        {
          "data": {
            "image/png": "[encoded data removed]",
            "text/plain": [
              "<Figure size 792x216 with 1 Axes>"
            ]
          },
          "metadata": {
            "needs_background": "light"
          },
          "output_type": "display_data"
        }
      ],
      "source": [
        "plt.figure(figsize=(11,3))\n",
        "plt.scatter(X_lda, np.zeros_like(X_lda), c = X_Train.Status_No, cmap='Set3', s = 75,  alpha = 0.5)\n",
        "plt.xlabel('LDA')\n",
        "plt.show()"
      ]
    },
    {
      "cell_type": "markdown",
      "metadata": {
        "id": "MSmWQSSWXxhj"
      },
      "source": [
        "### Finding the Cut-off value"
      ]
    },
    {
      "cell_type": "markdown",
      "metadata": {
        "id": "o5ZnmYAaXxhk"
      },
      "source": [
        "#### Method 1: - We can use the arithmetic mean of the $\\overline{Z}$ values for each class "
      ]
    },
    {
      "cell_type": "code",
      "execution_count": null,
      "metadata": {
        "id": "MjBa8SmhXxhk",
        "outputId": "73942750-cfda-43d3-a712-8dfb20f2514f"
      },
      "outputs": [
        {
          "data": {
            "text/html": [
              "<div>\n",
              "<style scoped>\n",
              "    .dataframe tbody tr th:only-of-type {\n",
              "        vertical-align: middle;\n",
              "    }\n",
              "\n",
              "    .dataframe tbody tr th {\n",
              "        vertical-align: top;\n",
              "    }\n",
              "\n",
              "    .dataframe thead th {\n",
              "        text-align: right;\n",
              "    }\n",
              "</style>\n",
              "<table border=\"1\" class=\"dataframe\">\n",
              "  <thead>\n",
              "    <tr style=\"text-align: right;\">\n",
              "      <th>Status_No</th>\n",
              "      <th>0</th>\n",
              "      <th>1</th>\n",
              "    </tr>\n",
              "  </thead>\n",
              "  <tbody>\n",
              "    <tr>\n",
              "      <th>EMIRatio</th>\n",
              "      <td>11.757471</td>\n",
              "      <td>9.183007</td>\n",
              "    </tr>\n",
              "    <tr>\n",
              "      <th>WorkExp</th>\n",
              "      <td>7.264368</td>\n",
              "      <td>13.296296</td>\n",
              "    </tr>\n",
              "  </tbody>\n",
              "</table>\n",
              "</div>"
            ],
            "text/plain": [
              "Status_No          0          1\n",
              "EMIRatio   11.757471   9.183007\n",
              "WorkExp     7.264368  13.296296"
            ]
          },
          "execution_count": 57,
          "metadata": {},
          "output_type": "execute_result"
        }
      ],
      "source": [
        "class_feature_means"
      ]
    },
    {
      "cell_type": "code",
      "execution_count": null,
      "metadata": {
        "id": "_ghT8k1JXxhl",
        "outputId": "c21e8393-c299-43fc-bf2e-5d262b520a02"
      },
      "outputs": [
        {
          "data": {
            "text/plain": [
              "array([[-0.36720258],\n",
              "       [ 0.93014099]])"
            ]
          },
          "execution_count": 58,
          "metadata": {},
          "output_type": "execute_result"
        }
      ],
      "source": [
        "eigen_vectors"
      ]
    },
    {
      "cell_type": "code",
      "execution_count": null,
      "metadata": {
        "id": "1h_BUxsnXxhl",
        "outputId": "7a38e328-24dc-4e96-a913-3b5e017df2cb"
      },
      "outputs": [
        {
          "data": {
            "text/plain": [
              "array([[2.43951244]])"
            ]
          },
          "execution_count": 59,
          "metadata": {},
          "output_type": "execute_result"
        }
      ],
      "source": [
        "eigen_vectors.reshape(1,2).dot(class_feature_means[0].values.reshape(2, 1))"
      ]
    },
    {
      "cell_type": "code",
      "execution_count": null,
      "metadata": {
        "id": "IwmSpYEcXxhm",
        "outputId": "657f1840-d4dc-4c9a-a22b-5ad8a059c0f2"
      },
      "outputs": [
        {
          "data": {
            "text/plain": [
              "2.4395124395146173"
            ]
          },
          "execution_count": 60,
          "metadata": {},
          "output_type": "execute_result"
        }
      ],
      "source": [
        "X_lda[X_Train.Status_No==0].mean()"
      ]
    },
    {
      "cell_type": "code",
      "execution_count": null,
      "metadata": {
        "id": "JO8oseJDXxhm"
      },
      "outputs": [],
      "source": [
        "Z0_mean = X_lda[X_Train.Status_No==0].mean()"
      ]
    },
    {
      "cell_type": "code",
      "execution_count": null,
      "metadata": {
        "id": "IAMkmuhMXxhn",
        "outputId": "4aa28c50-5362-481a-c686-0299aacfa5f7"
      },
      "outputs": [
        {
          "data": {
            "text/plain": [
              "8.995406471812776"
            ]
          },
          "execution_count": 62,
          "metadata": {},
          "output_type": "execute_result"
        }
      ],
      "source": [
        "Z1_mean = X_lda[X_Train.Status_No==1].mean()\n",
        "Z1_mean"
      ]
    },
    {
      "cell_type": "code",
      "execution_count": null,
      "metadata": {
        "id": "_X7tUJvpXxho",
        "outputId": "6da63d04-3681-4b4a-bac8-c27dc08390ab"
      },
      "outputs": [
        {
          "data": {
            "text/plain": [
              "5.717459455663697"
            ]
          },
          "execution_count": 63,
          "metadata": {},
          "output_type": "execute_result"
        }
      ],
      "source": [
        "Z_cut1 = (Z0_mean+Z1_mean)/2\n",
        "Z_cut1"
      ]
    },
    {
      "cell_type": "code",
      "execution_count": null,
      "metadata": {
        "id": "6fYOAtc2Xxhp",
        "outputId": "87cb326f-9c08-43f2-de0a-38e9dea66d9a"
      },
      "outputs": [
        {
          "data": {
            "image/png": "[encoded data removed]",
            "text/plain": [
              "<Figure size 792x216 with 1 Axes>"
            ]
          },
          "metadata": {
            "needs_background": "light"
          },
          "output_type": "display_data"
        }
      ],
      "source": [
        "plt.figure(figsize=(11,3))\n",
        "plt.scatter(X_lda, np.zeros_like(X_lda), c = X_Train.Status_No, cmap='Set3', s = 75,  alpha = 0.5)\n",
        "plt.axvline(Z_cut1, c = 'r')\n",
        "plt.xlabel('LDA')\n",
        "plt.show()"
      ]
    },
    {
      "cell_type": "code",
      "execution_count": null,
      "metadata": {
        "id": "kp660wQGXxhq"
      },
      "outputs": [],
      "source": [
        "preds = X_lda >= Z_cut1"
      ]
    },
    {
      "cell_type": "code",
      "execution_count": null,
      "metadata": {
        "id": "jJ2r6cBvXxhr"
      },
      "outputs": [],
      "source": [
        "from sklearn.metrics import accuracy_score"
      ]
    },
    {
      "cell_type": "code",
      "execution_count": null,
      "metadata": {
        "id": "jM6lNf-TXxhs",
        "outputId": "7de065cb-fae5-4809-c3f5-0af7cdf8decf"
      },
      "outputs": [
        {
          "data": {
            "text/plain": [
              "0.8772893772893773"
            ]
          },
          "execution_count": 70,
          "metadata": {},
          "output_type": "execute_result"
        }
      ],
      "source": [
        "accuracy_score(X_Train.Status_No, preds)"
      ]
    },
    {
      "cell_type": "markdown",
      "metadata": {
        "id": "w1NxyUFNXxht"
      },
      "source": [
        "#### Method 2: - We can use the weighted mean of the $\\overline{Z}$ values for each class "
      ]
    },
    {
      "cell_type": "code",
      "execution_count": null,
      "metadata": {
        "id": "qsJCBfwZXxhu",
        "outputId": "18505917-342d-4614-b710-049493bffd35"
      },
      "outputs": [
        {
          "data": {
            "text/plain": [
              "1    0.840659\n",
              "0    0.159341\n",
              "Name: Status_No, dtype: float64"
            ]
          },
          "execution_count": 73,
          "metadata": {},
          "output_type": "execute_result"
        }
      ],
      "source": [
        "X_Train.Status_No.value_counts(normalize=True)"
      ]
    },
    {
      "cell_type": "code",
      "execution_count": null,
      "metadata": {
        "id": "LJPKlf0gXxhv",
        "outputId": "a30962b0-2559-4c7c-c6c3-77f7687357b5"
      },
      "outputs": [
        {
          "data": {
            "text/plain": [
              "7.946463426645071"
            ]
          },
          "execution_count": 74,
          "metadata": {},
          "output_type": "execute_result"
        }
      ],
      "source": [
        "Z_cut2 = Z0_mean*0.16 + Z1_mean*0.84\n",
        "Z_cut2"
      ]
    },
    {
      "cell_type": "code",
      "execution_count": null,
      "metadata": {
        "id": "NPSLMq_zXxhw",
        "outputId": "70569543-4cc6-458a-fc14-03d632d7a456"
      },
      "outputs": [
        {
          "data": {
            "image/png": "[encoded data removed]",
            "text/plain": [
              "<Figure size 792x216 with 1 Axes>"
            ]
          },
          "metadata": {
            "needs_background": "light"
          },
          "output_type": "display_data"
        }
      ],
      "source": [
        "plt.figure(figsize=(11,3))\n",
        "plt.scatter(X_lda, np.zeros_like(X_lda), c = X_Train.Status_No, cmap='Set3', s = 75,  alpha = 0.5)\n",
        "plt.axvline(Z_cut1, c = 'r')\n",
        "plt.axvline(Z_cut2, c = 'b')\n",
        "plt.xlabel('LDA')\n",
        "plt.show()"
      ]
    },
    {
      "cell_type": "code",
      "execution_count": null,
      "metadata": {
        "id": "6IBgca6KXxhx"
      },
      "outputs": [],
      "source": [
        "preds2 = X_lda >= Z_cut2"
      ]
    },
    {
      "cell_type": "code",
      "execution_count": null,
      "metadata": {
        "id": "x5tkpdExXxhy",
        "outputId": "b9eaa6ea-e3ee-4e2f-b596-cc36cf03cc4f"
      },
      "outputs": [
        {
          "data": {
            "text/plain": [
              "0.7252747252747253"
            ]
          },
          "execution_count": 77,
          "metadata": {},
          "output_type": "execute_result"
        }
      ],
      "source": [
        "accuracy_score(X_Train.Status_No, preds2)"
      ]
    },
    {
      "cell_type": "markdown",
      "metadata": {
        "id": "3YVu6goJXxhy"
      },
      "source": [
        "#### Method 3: - We can take the sum of the arithmetic mean of the $\\overline{Z}$ values that we just calculated and the natural logarithmic ratio of the prior probabilites. \n",
        "This is a popular method in financial sector, to adjust cut off values where there is a class imbalance"
      ]
    },
    {
      "cell_type": "code",
      "execution_count": null,
      "metadata": {
        "id": "I5la6sirXxhz",
        "outputId": "d0b34051-aac2-439f-bc8e-6e566a8038d5"
      },
      "outputs": [
        {
          "data": {
            "text/plain": [
              "1    0.840659\n",
              "0    0.159341\n",
              "Name: Status_No, dtype: float64"
            ]
          },
          "execution_count": 78,
          "metadata": {},
          "output_type": "execute_result"
        }
      ],
      "source": [
        "X_Train.Status_No.value_counts(normalize=True)"
      ]
    },
    {
      "cell_type": "code",
      "execution_count": null,
      "metadata": {
        "id": "dyLRqntiXxhz",
        "outputId": "5c7d29af-d6c5-47af-e1c3-5172830240a5"
      },
      "outputs": [
        {
          "data": {
            "text/plain": [
              "1.6631395482483722"
            ]
          },
          "execution_count": 79,
          "metadata": {},
          "output_type": "execute_result"
        }
      ],
      "source": [
        "adj = np.log(0.840659/0.159341)\n",
        "adj"
      ]
    },
    {
      "cell_type": "code",
      "execution_count": null,
      "metadata": {
        "id": "GB6EDllSXxh0",
        "outputId": "777287d1-8feb-4da0-80f6-40f852c96d0c"
      },
      "outputs": [
        {
          "data": {
            "text/plain": [
              "7.380599003912069"
            ]
          },
          "execution_count": 80,
          "metadata": {},
          "output_type": "execute_result"
        }
      ],
      "source": [
        "Z_cut3 = Z_cut1 + adj\n",
        "Z_cut3"
      ]
    },
    {
      "cell_type": "code",
      "execution_count": null,
      "metadata": {
        "id": "C412SjVbXxh1",
        "outputId": "4ba4c421-508e-4cbf-d72b-0a0fc2db0c39"
      },
      "outputs": [
        {
          "data": {
            "image/png": "[encoded data removed]",
            "text/plain": [
              "<Figure size 792x216 with 1 Axes>"
            ]
          },
          "metadata": {
            "needs_background": "light"
          },
          "output_type": "display_data"
        }
      ],
      "source": [
        "plt.figure(figsize=(11,3))\n",
        "plt.scatter(X_lda, np.zeros_like(X_lda), c = X_Train.Status_No, cmap='Set3', s = 75,  alpha = 0.5)\n",
        "plt.axvline(Z_cut1, c = 'r')\n",
        "plt.axvline(Z_cut2, c = 'b')\n",
        "plt.axvline(Z_cut3, c = 'darkorange')\n",
        "plt.xlabel('LDA')\n",
        "plt.show()"
      ]
    },
    {
      "cell_type": "code",
      "execution_count": null,
      "metadata": {
        "id": "Y4qUVl5XXxh2"
      },
      "outputs": [],
      "source": [
        "preds3 = X_lda >= Z_cut3"
      ]
    },
    {
      "cell_type": "code",
      "execution_count": null,
      "metadata": {
        "id": "TjWieGGCXxh2",
        "outputId": "7e650134-627e-4ef9-9c0c-32d9b0b289b9"
      },
      "outputs": [
        {
          "data": {
            "text/plain": [
              "array([1, 0, 1, 1, 1, 0, 1, 1, 1, 1, 1, 1, 1, 1, 1, 0, 1, 1, 0, 1, 1, 1,\n",
              "       1, 1, 1, 1, 0, 1, 1, 0, 1, 0, 1, 0, 1, 1, 0, 1, 1, 1, 1, 1, 0, 1,\n",
              "       1, 0, 0, 1, 1, 1, 1, 1, 1, 1, 1, 1, 0, 1, 1, 1, 1, 0, 0, 1, 0, 0,\n",
              "       1, 1, 1, 1, 1, 0, 0, 1, 1, 1, 1, 1, 1, 1, 1, 1, 1, 0, 0, 1, 1, 1,\n",
              "       1, 1, 1, 1, 1, 1, 1, 0, 1, 1, 1, 0, 1, 1, 1, 1, 0, 0, 1, 1, 0, 0,\n",
              "       1, 1, 1, 1, 0, 1, 1, 1, 1, 1, 1, 1, 1, 1, 1, 0, 1, 1, 0, 1, 1, 0,\n",
              "       1, 0, 0, 1, 1, 1, 1, 0, 1, 0, 1, 1, 1, 0, 1, 1, 1, 1, 1, 1, 1, 1,\n",
              "       0, 1, 0, 1, 1, 1, 1, 0, 1, 1, 1, 1, 1, 1, 1, 1, 0, 1, 1, 0, 1, 1,\n",
              "       1, 1, 1, 1, 1, 1, 0, 1, 1, 0, 1, 1, 0, 1, 1, 0, 1, 1, 1, 1, 1, 0,\n",
              "       0, 1, 1, 1, 0, 0, 1, 1, 1, 1, 1, 0, 1, 1, 1, 1, 1, 1, 0, 1, 0, 1,\n",
              "       1, 1, 1, 1, 1, 1, 1, 1, 1, 1, 1, 1, 1, 1, 1, 1, 1, 1, 1, 1, 1, 1,\n",
              "       1, 1, 0, 1, 0, 1, 1, 1, 1, 1, 0, 1, 1, 1, 1, 1, 1, 1, 1, 1, 1, 0,\n",
              "       1, 1, 1, 0, 1, 1, 0, 0, 1, 1, 1, 1, 0, 1, 1, 1, 1, 1, 0, 1, 1, 1,\n",
              "       1, 1, 1, 0, 1, 1, 1, 1, 1, 1, 1, 1, 1, 1, 1, 1, 1, 1, 1, 1, 0, 0,\n",
              "       1, 1, 1, 1, 1, 0, 1, 1, 1, 1, 0, 0, 1, 1, 1, 0, 1, 1, 1, 1, 1, 1,\n",
              "       1, 1, 1, 1, 1, 1, 1, 1, 1, 1, 1, 0, 1, 0, 1, 1, 1, 1, 1, 0, 0, 1,\n",
              "       1, 1, 1, 1, 1, 1, 1, 1, 1, 1, 1, 1, 1, 1, 1, 0, 1, 1, 1, 0, 1, 1,\n",
              "       1, 1, 1, 0, 0, 1, 1, 1, 1, 1, 1, 1, 0, 1, 0, 0, 1, 1, 1, 1, 1, 0,\n",
              "       1, 1, 0, 1, 1, 1, 1, 1, 1, 0, 0, 1, 1, 1, 1, 1, 1, 1, 1, 1, 1, 1,\n",
              "       1, 1, 1, 0, 1, 1, 1, 0, 0, 1, 1, 1, 1, 0, 1, 1, 1, 1, 1, 0, 1, 1,\n",
              "       1, 1, 0, 1, 1, 1, 1, 0, 1, 0, 1, 1, 1, 1, 1, 0, 1, 1, 0, 1, 0, 1,\n",
              "       1, 1, 1, 1, 1, 1, 1, 1, 0, 0, 0, 1, 1, 1, 1, 0, 1, 1, 0, 1, 1, 1,\n",
              "       0, 1, 1, 1, 1, 1, 0, 1, 1, 0, 1, 1, 1, 1, 1, 1, 1, 0, 1, 1, 1, 0,\n",
              "       0, 0, 1, 1, 1, 1, 1, 1, 0, 1, 1, 1, 0, 1, 1, 1, 1, 1, 1, 1, 1, 0,\n",
              "       1, 1, 1, 0, 0, 1, 1, 1, 1, 1, 1, 1, 1, 1, 1, 1, 1, 0])"
            ]
          },
          "execution_count": 85,
          "metadata": {},
          "output_type": "execute_result"
        }
      ],
      "source": [
        "preds*1"
      ]
    },
    {
      "cell_type": "code",
      "execution_count": null,
      "metadata": {
        "id": "iZ4AJjtnXxh3",
        "outputId": "ef8228d6-7b5a-4c20-92c2-f89b721408cb"
      },
      "outputs": [
        {
          "data": {
            "text/plain": [
              "0.7838827838827839"
            ]
          },
          "execution_count": 83,
          "metadata": {},
          "output_type": "execute_result"
        }
      ],
      "source": [
        "accuracy_score(X_Train.Status_No, preds3)"
      ]
    },
    {
      "cell_type": "markdown",
      "metadata": {
        "id": "lclolMqYXxh4"
      },
      "source": [
        "#### Method 4: Using Baysian Rules\n",
        "This is how probabilities are calculated in scikit for LDA. By default LDA does not give probabilities, unlike Logistic Rregression "
      ]
    },
    {
      "cell_type": "markdown",
      "metadata": {
        "id": "FGVjmxq7Xxh5"
      },
      "source": [
        "### Bayes Theorem:  \n",
        "\n",
        "###  \\begin{equation*}\n",
        "P(A|B)= \n",
        "\\frac{P(B|A) \\times P(A)} {P(B)}\n",
        "\\end{equation*}\n",
        "\n",
        "### \\begin{equation*}\n",
        " P(y =k | x) = \n",
        "\\frac{ P(x|y=k) \\times P(y=k) }{P(x)} \n",
        "\\end{equation*}"
      ]
    },
    {
      "cell_type": "markdown",
      "metadata": {
        "id": "JE1IDfd-Xxh5"
      },
      "source": [
        "---"
      ]
    },
    {
      "cell_type": "markdown",
      "metadata": {
        "id": "0MqQKjqDXxh6"
      },
      "source": [
        "## Lets do it the easy way now!"
      ]
    },
    {
      "cell_type": "code",
      "execution_count": null,
      "metadata": {
        "id": "AsHNLtGyXxh6"
      },
      "outputs": [],
      "source": [
        "from sklearn.discriminant_analysis import LinearDiscriminantAnalysis\n",
        "lda = LinearDiscriminantAnalysis()"
      ]
    },
    {
      "cell_type": "code",
      "execution_count": null,
      "metadata": {
        "id": "aK-02M-rXxh7"
      },
      "outputs": [],
      "source": [
        "model = lda.fit(X_Train[['EMIRatio','WorkExp']], X_Train.Status_No)\n",
        "X_lda2 = lda.transform(X_Train[['EMIRatio','WorkExp']])\n",
        "X_lda2 = X_lda2.ravel() # ravel flattens a numpy array\n",
        "# X_lda2"
      ]
    },
    {
      "cell_type": "code",
      "execution_count": null,
      "metadata": {
        "id": "okrxZwYBXxh7",
        "outputId": "e4911a7f-2c1f-4092-a1fe-9b457ceba048"
      },
      "outputs": [
        {
          "data": {
            "image/png": "[encoded data removed]",
            "text/plain": [
              "<Figure size 792x216 with 1 Axes>"
            ]
          },
          "metadata": {
            "needs_background": "light"
          },
          "output_type": "display_data"
        }
      ],
      "source": [
        "plt.figure(figsize=(11,3))\n",
        "plt.scatter(X_lda2, np.zeros_like(X_lda2), c = X_Train.Status_No, cmap='Set3', s = 75,  alpha = 0.5)\n",
        "plt.xlabel('LDA')\n",
        "plt.show()"
      ]
    },
    {
      "cell_type": "code",
      "execution_count": null,
      "metadata": {
        "id": "4ZcLWw6HXxh8",
        "outputId": "a7a810f8-4b81-4c40-dc20-ad42451f6b72"
      },
      "outputs": [
        {
          "data": {
            "image/png": "[encoded data removed]",
            "text/plain": [
              "<Figure size 792x216 with 1 Axes>"
            ]
          },
          "metadata": {
            "needs_background": "light"
          },
          "output_type": "display_data"
        }
      ],
      "source": [
        "plt.figure(figsize=(11,3))\n",
        "plt.scatter(X_lda, np.zeros_like(X_lda), c = X_Train.Status_No, cmap='Set3', s = 75,  alpha = 0.5)\n",
        "# alpha is used to create translucent points\n",
        "plt.xlabel('LDA')\n",
        "plt.show()"
      ]
    },
    {
      "cell_type": "markdown",
      "metadata": {
        "id": "e2KwpN7xXxh8"
      },
      "source": [
        "Even though the scales of the Zscores calculated from scratch and the one from Scikit, are on diffrent scales, the relative diffrence between the points is the same. This means that as far classification is concerned, we are goin to get samre results"
      ]
    },
    {
      "cell_type": "code",
      "execution_count": null,
      "metadata": {
        "id": "Z-xKIN8FXxh9",
        "outputId": "d919e5af-dab2-4794-be4c-0e5df8c73c42"
      },
      "outputs": [
        {
          "data": {
            "text/plain": [
              "array([[-0.36720258],\n",
              "       [ 0.93014099]])"
            ]
          },
          "execution_count": 92,
          "metadata": {},
          "output_type": "execute_result"
        }
      ],
      "source": [
        "eigen_vectors"
      ]
    },
    {
      "cell_type": "code",
      "execution_count": null,
      "metadata": {
        "id": "4aBcNpH6Xxh-",
        "outputId": "3a7f2e00-b298-4c05-f7d0-6ae38df3a6c7"
      },
      "outputs": [
        {
          "data": {
            "text/plain": [
              "array([[-0.11524118],\n",
              "       [ 0.2919112 ]])"
            ]
          },
          "execution_count": 93,
          "metadata": {},
          "output_type": "execute_result"
        }
      ],
      "source": [
        "model.scalings_"
      ]
    },
    {
      "cell_type": "code",
      "execution_count": null,
      "metadata": {
        "id": "NFunWKmPXxh_",
        "outputId": "9b26bbc5-5a3d-49a0-b582-a7f9457c8537"
      },
      "outputs": [
        {
          "data": {
            "text/plain": [
              "array([3.18638332])"
            ]
          },
          "execution_count": 95,
          "metadata": {},
          "output_type": "execute_result"
        }
      ],
      "source": [
        "scale = eigen_vectors[1] / model.scalings_[1]\n",
        "scale"
      ]
    },
    {
      "cell_type": "code",
      "execution_count": null,
      "metadata": {
        "id": "MOWNwb7EXxiA"
      },
      "outputs": [],
      "source": [
        "X_lda3 = (model.scalings_[0]*X_Train.EMIRatio + model.scalings_[1]*X_Train.WorkExp)*scale\n",
        "# Convertig Z scores from LDA to the same scale as calculated by us using Eigen Value decomposition"
      ]
    },
    {
      "cell_type": "code",
      "execution_count": null,
      "metadata": {
        "id": "wGJhGtBeXxiA",
        "outputId": "6f610552-7806-4512-e397-ba57513a1c46"
      },
      "outputs": [
        {
          "data": {
            "text/plain": [
              "array([ 8.90930492,  5.29890173,  9.86403164,  8.93389065, 14.42916154])"
            ]
          },
          "execution_count": 97,
          "metadata": {},
          "output_type": "execute_result"
        }
      ],
      "source": [
        "X_lda[:5]"
      ]
    },
    {
      "cell_type": "code",
      "execution_count": null,
      "metadata": {
        "id": "DChl4uz5XxiC",
        "outputId": "f3a548ad-7c2b-4d99-b3cc-6cdf86958f81"
      },
      "outputs": [
        {
          "data": {
            "text/plain": [
              "516     8.909305\n",
              "486     5.298902\n",
              "306     9.864032\n",
              "307     8.933891\n",
              "95     14.429162\n",
              "dtype: float64"
            ]
          },
          "execution_count": 98,
          "metadata": {},
          "output_type": "execute_result"
        }
      ],
      "source": [
        "X_lda3[:5]"
      ]
    },
    {
      "cell_type": "code",
      "execution_count": null,
      "metadata": {
        "id": "PH2dgwQNXxiC",
        "outputId": "190447de-e636-46e3-a787-71074f762b1b"
      },
      "outputs": [
        {
          "data": {
            "text/plain": [
              "array([[11.75747126,  7.26436782],\n",
              "       [ 9.18300654, 13.2962963 ]])"
            ]
          },
          "execution_count": 99,
          "metadata": {},
          "output_type": "execute_result"
        }
      ],
      "source": [
        "model.means_"
      ]
    },
    {
      "cell_type": "code",
      "execution_count": null,
      "metadata": {
        "id": "_g-YDjhHXxiD",
        "outputId": "3420336d-f290-447e-813d-9ad2d4a797fc"
      },
      "outputs": [
        {
          "data": {
            "text/plain": [
              "array([0.15934066, 0.84065934])"
            ]
          },
          "execution_count": 100,
          "metadata": {},
          "output_type": "execute_result"
        }
      ],
      "source": [
        "model.priors_ # The distribution frequency of classes"
      ]
    },
    {
      "cell_type": "code",
      "execution_count": null,
      "metadata": {
        "id": "jn3aJOJyXxiE",
        "outputId": "141e94b2-cdcb-4d94-fce2-e4f460331f86"
      },
      "outputs": [
        {
          "data": {
            "text/plain": [
              "0.891941391941392"
            ]
          },
          "execution_count": 101,
          "metadata": {},
          "output_type": "execute_result"
        }
      ],
      "source": [
        "model.score(X_Train[['EMIRatio','WorkExp']], X_Train.Status_No )"
      ]
    },
    {
      "cell_type": "code",
      "execution_count": null,
      "metadata": {
        "id": "xPnhGnVJXxiF",
        "outputId": "ec15a8e6-1d6e-44d2-891f-77d8ac7c6234"
      },
      "outputs": [
        {
          "data": {
            "text/plain": [
              "array([1, 1, 1, 1, 1], dtype=uint8)"
            ]
          },
          "execution_count": 102,
          "metadata": {},
          "output_type": "execute_result"
        }
      ],
      "source": [
        "model.predict(X_Train[['EMIRatio','WorkExp']])[:5]"
      ]
    },
    {
      "cell_type": "code",
      "execution_count": null,
      "metadata": {
        "id": "JV4MgV2TXxiF",
        "outputId": "9f3a84f6-63e5-47b4-9189-91822ca836df"
      },
      "outputs": [
        {
          "data": {
            "text/plain": [
              "array([[0.02356511, 0.97643489],\n",
              "       [0.19894899, 0.80105101],\n",
              "       [0.01286095, 0.98713905],\n",
              "       [0.02320257, 0.97679743],\n",
              "       [0.00068299, 0.99931701]])"
            ]
          },
          "execution_count": 106,
          "metadata": {},
          "output_type": "execute_result"
        }
      ],
      "source": [
        "model.predict_proba(X_Train[['EMIRatio','WorkExp']])[:5]"
      ]
    },
    {
      "cell_type": "markdown",
      "metadata": {
        "id": "FzamAp2IXxiG"
      },
      "source": [
        "---"
      ]
    },
    {
      "cell_type": "markdown",
      "metadata": {
        "id": "nOrlUKH9XxiG"
      },
      "source": [
        "## Lets build a model on complete dataset now"
      ]
    },
    {
      "cell_type": "code",
      "execution_count": null,
      "metadata": {
        "id": "ROnHEMt0XxiJ",
        "outputId": "1625d888-d99a-4369-c1ff-4939b8a5e902"
      },
      "outputs": [
        {
          "data": {
            "text/html": [
              "<div>\n",
              "<style scoped>\n",
              "    .dataframe tbody tr th:only-of-type {\n",
              "        vertical-align: middle;\n",
              "    }\n",
              "\n",
              "    .dataframe tbody tr th {\n",
              "        vertical-align: top;\n",
              "    }\n",
              "\n",
              "    .dataframe thead th {\n",
              "        text-align: right;\n",
              "    }\n",
              "</style>\n",
              "<table border=\"1\" class=\"dataframe\">\n",
              "  <thead>\n",
              "    <tr style=\"text-align: right;\">\n",
              "      <th></th>\n",
              "      <th>LoanOffered</th>\n",
              "      <th>WorkExp</th>\n",
              "      <th>CreditScore</th>\n",
              "      <th>EMIRatio</th>\n",
              "      <th>Ownhouse</th>\n",
              "      <th>Dependents</th>\n",
              "      <th>Gender_Male</th>\n",
              "      <th>Job_skilled</th>\n",
              "      <th>Job_unskilled</th>\n",
              "      <th>Status_No</th>\n",
              "      <th>CreditHistory_good</th>\n",
              "      <th>CreditHistory_poor</th>\n",
              "      <th>CreditHistory_verygood</th>\n",
              "      <th>Purpose_consumerdurable</th>\n",
              "      <th>Purpose_education</th>\n",
              "      <th>Purpose_personal</th>\n",
              "    </tr>\n",
              "  </thead>\n",
              "  <tbody>\n",
              "    <tr>\n",
              "      <th>0</th>\n",
              "      <td>0</td>\n",
              "      <td>14</td>\n",
              "      <td>86</td>\n",
              "      <td>3.0</td>\n",
              "      <td>1</td>\n",
              "      <td>2</td>\n",
              "      <td>1</td>\n",
              "      <td>0</td>\n",
              "      <td>1</td>\n",
              "      <td>1</td>\n",
              "      <td>0</td>\n",
              "      <td>1</td>\n",
              "      <td>0</td>\n",
              "      <td>0</td>\n",
              "      <td>0</td>\n",
              "      <td>1</td>\n",
              "    </tr>\n",
              "    <tr>\n",
              "      <th>1</th>\n",
              "      <td>1</td>\n",
              "      <td>15</td>\n",
              "      <td>94</td>\n",
              "      <td>3.0</td>\n",
              "      <td>1</td>\n",
              "      <td>3</td>\n",
              "      <td>0</td>\n",
              "      <td>1</td>\n",
              "      <td>0</td>\n",
              "      <td>1</td>\n",
              "      <td>0</td>\n",
              "      <td>1</td>\n",
              "      <td>0</td>\n",
              "      <td>0</td>\n",
              "      <td>0</td>\n",
              "      <td>1</td>\n",
              "    </tr>\n",
              "    <tr>\n",
              "      <th>2</th>\n",
              "      <td>0</td>\n",
              "      <td>16</td>\n",
              "      <td>86</td>\n",
              "      <td>3.0</td>\n",
              "      <td>1</td>\n",
              "      <td>2</td>\n",
              "      <td>1</td>\n",
              "      <td>0</td>\n",
              "      <td>1</td>\n",
              "      <td>1</td>\n",
              "      <td>0</td>\n",
              "      <td>1</td>\n",
              "      <td>0</td>\n",
              "      <td>0</td>\n",
              "      <td>0</td>\n",
              "      <td>1</td>\n",
              "    </tr>\n",
              "    <tr>\n",
              "      <th>3</th>\n",
              "      <td>1</td>\n",
              "      <td>13</td>\n",
              "      <td>94</td>\n",
              "      <td>3.0</td>\n",
              "      <td>1</td>\n",
              "      <td>3</td>\n",
              "      <td>0</td>\n",
              "      <td>1</td>\n",
              "      <td>0</td>\n",
              "      <td>1</td>\n",
              "      <td>0</td>\n",
              "      <td>1</td>\n",
              "      <td>0</td>\n",
              "      <td>0</td>\n",
              "      <td>0</td>\n",
              "      <td>1</td>\n",
              "    </tr>\n",
              "    <tr>\n",
              "      <th>4</th>\n",
              "      <td>1</td>\n",
              "      <td>12</td>\n",
              "      <td>85</td>\n",
              "      <td>3.3</td>\n",
              "      <td>1</td>\n",
              "      <td>2</td>\n",
              "      <td>1</td>\n",
              "      <td>1</td>\n",
              "      <td>0</td>\n",
              "      <td>1</td>\n",
              "      <td>0</td>\n",
              "      <td>1</td>\n",
              "      <td>0</td>\n",
              "      <td>0</td>\n",
              "      <td>0</td>\n",
              "      <td>1</td>\n",
              "    </tr>\n",
              "  </tbody>\n",
              "</table>\n",
              "</div>"
            ],
            "text/plain": [
              "   LoanOffered  WorkExp  CreditScore  EMIRatio  Ownhouse  Dependents  \\\n",
              "0            0       14           86       3.0         1           2   \n",
              "1            1       15           94       3.0         1           3   \n",
              "2            0       16           86       3.0         1           2   \n",
              "3            1       13           94       3.0         1           3   \n",
              "4            1       12           85       3.3         1           2   \n",
              "\n",
              "   Gender_Male  Job_skilled  Job_unskilled  Status_No  CreditHistory_good  \\\n",
              "0            1            0              1          1                   0   \n",
              "1            0            1              0          1                   0   \n",
              "2            1            0              1          1                   0   \n",
              "3            0            1              0          1                   0   \n",
              "4            1            1              0          1                   0   \n",
              "\n",
              "   CreditHistory_poor  CreditHistory_verygood  Purpose_consumerdurable  \\\n",
              "0                   1                       0                        0   \n",
              "1                   1                       0                        0   \n",
              "2                   1                       0                        0   \n",
              "3                   1                       0                        0   \n",
              "4                   1                       0                        0   \n",
              "\n",
              "   Purpose_education  Purpose_personal  \n",
              "0                  0                 1  \n",
              "1                  0                 1  \n",
              "2                  0                 1  \n",
              "3                  0                 1  \n",
              "4                  0                 1  "
            ]
          },
          "execution_count": 107,
          "metadata": {},
          "output_type": "execute_result"
        }
      ],
      "source": [
        "data.head()"
      ]
    },
    {
      "cell_type": "code",
      "execution_count": null,
      "metadata": {
        "id": "UrCamiJKXxiM"
      },
      "outputs": [],
      "source": [
        "X = data.drop('Status_No', axis=1)\n",
        "Y = data.Status_No"
      ]
    },
    {
      "cell_type": "code",
      "execution_count": null,
      "metadata": {
        "id": "efYEK5aQXxiM"
      },
      "outputs": [],
      "source": [
        "X_Train, X_Test, Y_Train, Y_Test = train_test_split(X, Y, test_size=.30, random_state=1, stratify = Y)"
      ]
    },
    {
      "cell_type": "code",
      "execution_count": null,
      "metadata": {
        "id": "SfaO-wJuXxiO"
      },
      "outputs": [],
      "source": [
        "full_model = lda.fit(X_Train, Y_Train)"
      ]
    },
    {
      "cell_type": "code",
      "execution_count": null,
      "metadata": {
        "id": "RSIHyWBIXxiO"
      },
      "outputs": [],
      "source": [
        "y_train_predict = full_model.predict(X_Train)\n",
        "y_test_predict = full_model.predict(X_Test)"
      ]
    },
    {
      "cell_type": "code",
      "execution_count": null,
      "metadata": {
        "id": "eX5QsgO6XxiP"
      },
      "outputs": [],
      "source": [
        "y_train_predict_prob = full_model.predict_proba(X_Train) # Getting probabilities\n",
        "y_test_predict_prob = full_model.predict_proba(X_Test)"
      ]
    },
    {
      "cell_type": "code",
      "execution_count": null,
      "metadata": {
        "id": "CPMwt61HXxiP",
        "outputId": "dafa2be7-ebc9-45a2-804b-104a01f575bd"
      },
      "outputs": [
        {
          "data": {
            "text/plain": [
              "0.9908424908424909"
            ]
          },
          "execution_count": 113,
          "metadata": {},
          "output_type": "execute_result"
        }
      ],
      "source": [
        "accuracy_score(Y_Train, y_train_predict)"
      ]
    },
    {
      "cell_type": "markdown",
      "metadata": {
        "id": "kFYDt524XxiQ"
      },
      "source": [
        "### Lets check accuracy at various thresholds"
      ]
    },
    {
      "cell_type": "code",
      "execution_count": null,
      "metadata": {
        "id": "zKE5h-BdXxiR"
      },
      "outputs": [],
      "source": [
        "threshold_range = np.arange(0.4, 0.8, 0.1) # Trying thresholds 0.4, 0.5, 0.6, 0.7"
      ]
    },
    {
      "cell_type": "code",
      "execution_count": null,
      "metadata": {
        "id": "yqQ7r0hoXxiR",
        "outputId": "05a39077-bc32-4fc2-f7ac-0d60db5f4576"
      },
      "outputs": [
        {
          "name": "stdout",
          "output_type": "stream",
          "text": [
            "0.4\n",
            "0.9908424908424909\n",
            "\n",
            "\n",
            "0.5\n",
            "0.9908424908424909\n",
            "\n",
            "\n",
            "0.6\n",
            "0.9835164835164835\n",
            "\n",
            "\n",
            "0.7\n",
            "0.9743589743589743\n",
            "\n",
            "\n"
          ]
        }
      ],
      "source": [
        "for thresh in threshold_range:\n",
        "    print(thresh)\n",
        "    print(accuracy_score(Y_Train, y_train_predict_prob[:, 1]>thresh))\n",
        "    print('\\n')"
      ]
    },
    {
      "cell_type": "markdown",
      "metadata": {
        "id": "A6CklbzxXxiT"
      },
      "source": [
        "### Lets check confusion matrix at various thresholds"
      ]
    },
    {
      "cell_type": "code",
      "execution_count": null,
      "metadata": {
        "id": "LvxcoJnYXxiT"
      },
      "outputs": [],
      "source": [
        "from sklearn.metrics import confusion_matrix, classification_report, roc_auc_score, roc_curve"
      ]
    },
    {
      "cell_type": "code",
      "execution_count": null,
      "metadata": {
        "id": "g_rZKQ6CXxiU",
        "outputId": "aeb4cd26-d062-4820-fd18-1f30c955f8bc"
      },
      "outputs": [
        {
          "data": {
            "image/png": "[encoded data removed]",
            "text/plain": [
              "<Figure size 432x288 with 8 Axes>"
            ]
          },
          "metadata": {
            "needs_background": "light"
          },
          "output_type": "display_data"
        }
      ],
      "source": [
        "f,a =  plt.subplots(2,2,sharex=True,sharey=True)\n",
        "\n",
        "plot_00 = sns.heatmap((confusion_matrix(Y_Train, y_train_predict_prob[:, 1]>0.4)),annot=True,fmt='.5g'\n",
        "            ,cmap='Greys',ax=a[0][0]);\n",
        "a[0][0].set_title('0.4 cutoff')\n",
        "plot_01 = sns.heatmap((confusion_matrix(Y_Train,y_train_predict_prob[:, 1]>0.5)),annot=True,fmt='.5g'\n",
        "            ,cmap='Greys',ax=a[0][1]);\n",
        "a[0][1].set_title('0.5 cutoff');\n",
        "plot_02 = sns.heatmap((confusion_matrix(Y_Train,y_train_predict_prob[:, 1]>0.6)),annot=True,fmt='.5g'\n",
        "            ,cmap='Greys',ax=a[1][1]);\n",
        "a[1][1].set_title('0.6 cutoff');\n",
        "plot_03 = sns.heatmap((confusion_matrix(Y_Train,y_train_predict_prob[:, 1]>0.7)),annot=True,fmt='.5g'\n",
        "            ,cmap='Greys',ax=a[1][0]);\n",
        "a[1][0].set_title('0.7 cutoff');"
      ]
    },
    {
      "cell_type": "markdown",
      "metadata": {
        "id": "c36xC4JSXxiU"
      },
      "source": [
        "In all the cases we just have one sample incorrectly mentioned as Non defaulting, when the person is defaulting "
      ]
    },
    {
      "cell_type": "code",
      "execution_count": null,
      "metadata": {
        "id": "A6VRNa9FXxiV",
        "outputId": "2cd6e733-5362-4daf-9c42-423882a643e4"
      },
      "outputs": [
        {
          "name": "stdout",
          "output_type": "stream",
          "text": [
            "              precision    recall  f1-score   support\n",
            "\n",
            "           0       0.96      0.99      0.97        87\n",
            "           1       1.00      0.99      0.99       459\n",
            "\n",
            "    accuracy                           0.99       546\n",
            "   macro avg       0.98      0.99      0.98       546\n",
            "weighted avg       0.99      0.99      0.99       546\n",
            "\n"
          ]
        }
      ],
      "source": [
        "print(classification_report(Y_Train, y_train_predict))"
      ]
    },
    {
      "cell_type": "code",
      "execution_count": null,
      "metadata": {
        "id": "BODun-k7XxiV",
        "outputId": "eaacc59e-5557-4afd-8f40-663b7ea477bb"
      },
      "outputs": [
        {
          "name": "stdout",
          "output_type": "stream",
          "text": [
            "AUC: 0.997\n"
          ]
        },
        {
          "data": {
            "image/png": "[encoded data removed]",
            "text/plain": [
              "<Figure size 432x288 with 1 Axes>"
            ]
          },
          "metadata": {
            "needs_background": "light"
          },
          "output_type": "display_data"
        }
      ],
      "source": [
        "auc = roc_auc_score(Y_Train, y_train_predict_prob[:, 1])#keeping only the probabilities for the desired class outcome\n",
        "print('AUC: %.3f' % auc)\n",
        "\n",
        "fpr, tpr, thresholds = roc_curve(Y_Train, y_train_predict_prob[:, 1])#keeping only the probabilities for the desired \n",
        "#class outcome\n",
        "plt.plot([0, 1], [0, 1], linestyle='--')\n",
        "# plot the roc curve for the model\n",
        "plt.plot(fpr, tpr, marker='.')\n",
        "# show the plot\n",
        "plt.show()"
      ]
    },
    {
      "cell_type": "markdown",
      "metadata": {
        "id": "l2GXWClKXxiW"
      },
      "source": [
        "#### Lets check if the performance on test set matches with the training set"
      ]
    },
    {
      "cell_type": "code",
      "execution_count": null,
      "metadata": {
        "id": "Rh-f_g9wXxiW",
        "outputId": "7fd766f3-98ae-4ff9-e7a5-0690a225be0a"
      },
      "outputs": [
        {
          "data": {
            "image/png": "[encoded data removed]",
            "text/plain": [
              "<Figure size 432x288 with 2 Axes>"
            ]
          },
          "metadata": {
            "needs_background": "light"
          },
          "output_type": "display_data"
        },
        {
          "name": "stdout",
          "output_type": "stream",
          "text": [
            "True Negative: 38 \n",
            "False Positives: 0 \n",
            "False Negatives: 3 \n",
            "True Positives: 194 \n",
            "\n",
            "              precision    recall  f1-score   support\n",
            "\n",
            "           0       0.93      1.00      0.96        38\n",
            "           1       1.00      0.98      0.99       197\n",
            "\n",
            "    accuracy                           0.99       235\n",
            "   macro avg       0.96      0.99      0.98       235\n",
            "weighted avg       0.99      0.99      0.99       235\n",
            "\n"
          ]
        }
      ],
      "source": [
        "sns.heatmap((confusion_matrix(Y_Test,y_test_predict)),annot=True,fmt='.5g',cmap='Greys');\n",
        "plt.xlabel('Predicted');\n",
        "plt.ylabel('Actuals');\n",
        "plt.show()\n",
        "tn, fp, fn, tp = confusion_matrix(Y_Test,y_test_predict).ravel()\n",
        "print('True Negative:',tn,'\\n''False Positives:' ,fp,'\\n''False Negatives:', fn,'\\n''True Positives:', tp,'\\n')\n",
        "print(classification_report(Y_Test,y_test_predict))"
      ]
    },
    {
      "cell_type": "code",
      "execution_count": null,
      "metadata": {
        "id": "qoy3au20XxiX",
        "outputId": "17a1f93f-9512-4fd1-88c1-20deedeb0f70"
      },
      "outputs": [
        {
          "name": "stdout",
          "output_type": "stream",
          "text": [
            "AUC: 0.998\n"
          ]
        },
        {
          "data": {
            "image/png": "[encoded data removed]",
            "text/plain": [
              "<Figure size 432x288 with 1 Axes>"
            ]
          },
          "metadata": {
            "needs_background": "light"
          },
          "output_type": "display_data"
        }
      ],
      "source": [
        "# AUC and ROC for the testing data\n",
        "auc = roc_auc_score(Y_Test,y_test_predict_prob[:, 1])#keeping only the probabilities for the desired class outcome\n",
        "print('AUC: %.3f' % auc)\n",
        "fpr, tpr, thresholds = roc_curve(Y_Test,y_test_predict_prob[:, 1])#keeping only the probabilities for the desired \n",
        "#class outcome\n",
        "plt.plot([0, 1], [0, 1], linestyle='--')\n",
        "# plot the roc curve for the model\n",
        "plt.plot(fpr, tpr, marker='.')\n",
        "# show the plot\n",
        "plt.show()"
      ]
    },
    {
      "cell_type": "markdown",
      "metadata": {
        "id": "vy0o8Dj5Xxic"
      },
      "source": [
        "# END"
      ]
    }
  ],
  "metadata": {
    "kernelspec": {
      "display_name": "Python 3",
      "language": "python",
      "name": "python3"
    },
    "language_info": {
      "codemirror_mode": {
        "name": "ipython",
        "version": 3
      },
      "file_extension": ".py",
      "mimetype": "text/x-python",
      "name": "python",
      "nbconvert_exporter": "python",
      "pygments_lexer": "ipython3",
      "version": "3.6.12"
    },
    "toc": {
      "base_numbering": 1,
      "nav_menu": {},
      "number_sections": true,
      "sideBar": true,
      "skip_h1_title": false,
      "title_cell": "Table of Contents",
      "title_sidebar": "Contents",
      "toc_cell": false,
      "toc_position": {},
      "toc_section_display": true,
      "toc_window_display": false
    },
    "varInspector": {
      "cols": {
        "lenName": 16,
        "lenType": 16,
        "lenVar": 40
      },
      "kernels_config": {
        "python": {
          "delete_cmd_postfix": "",
          "delete_cmd_prefix": "del ",
          "library": "var_list.py",
          "varRefreshCmd": "print(var_dic_list())"
        },
        "r": {
          "delete_cmd_postfix": ") ",
          "delete_cmd_prefix": "rm(",
          "library": "var_list.r",
          "varRefreshCmd": "cat(var_dic_list()) "
        }
      },
      "types_to_exclude": [
        "module",
        "function",
        "builtin_function_or_method",
        "instance",
        "_Feature"
      ],
      "window_display": false
    },
    "colab": {
      "name": "LDA to predict loan default.ipynb",
      "provenance": []
    }
  },
  "nbformat": 4,
  "nbformat_minor": 0
}